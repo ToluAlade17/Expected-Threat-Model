{
 "cells": [
  {
   "cell_type": "code",
   "execution_count": null,
   "id": "96b450de",
   "metadata": {},
   "outputs": [],
   "source": [
    "import pandas as pd, import numpy as np\n",
    "import tqdm as tdqm\n",
    "from statsbombpy as sb\n",
    "from sklearn.model_selection import GroupKFold\n",
    "from sklearn.linear_model import LogisticRegression\n",
    "\n",
    "\n",
    "# All public competitions\n",
    "comps = sb.competitions()"
   ]
  }
 ],
 "metadata": {
  "kernelspec": {
   "display_name": "venv",
   "language": "python",
   "name": "python3"
  },
  "language_info": {
   "codemirror_mode": {
    "name": "ipython",
    "version": 3
   },
   "file_extension": ".py",
   "mimetype": "text/x-python",
   "name": "python",
   "nbconvert_exporter": "python",
   "pygments_lexer": "ipython3",
   "version": "3.13.2"
  }
 },
 "nbformat": 4,
 "nbformat_minor": 5
}
