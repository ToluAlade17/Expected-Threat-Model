{
 "cells": [
  {
   "cell_type": "code",
   "execution_count": 27,
   "id": "96b450de",
   "metadata": {},
   "outputs": [],
   "source": [
    "import pandas as pd\n",
    "import warnings \n",
    "warnings.filterwarnings('ignore')\n",
    "import numpy as np\n",
    "import tqdm as tdqm\n",
    "import matplotlib.pyplot as plt\n",
    "from statsbombpy import sb\n",
    "from sklearn.model_selection import GroupKFold\n",
    "from sklearn.linear_model import LogisticRegression\n",
    "\n"
   ]
  },
  {
   "cell_type": "code",
   "execution_count": null,
   "id": "61e24c13",
   "metadata": {},
   "outputs": [],
   "source": [
    "comps = sb.competitions()\n",
    "comps[['competition_id', 'competition_name', 'season_id','season_name']].head(20)\n",
    "# Womens Super League 2018/19\n",
    "matches = sb.matches(competition_id = 37, season_id = 90)\n",
    "matches[['match_id','home_team','away_team','match_date']].head()\n",
    "# Pick a match and get the events\n",
    "match_id = int(matches.iloc[0]['match_id'])\n",
    "raw_events = sb.events(match_id=match_id)\n",
    "\n",
    "ev = raw_events.copy()\n",
    "\n",
    "def _xyz_from_list(series):\n",
    "    \"\"\" Turn a column of [x,y] or [x, y,z] lists (or None) into two float cloumns.\"\"\"\n",
    "    def pad_xyz(v):\n",
    "        if isinstance(v, (list, tuple)):\n",
    "            padded = list(v) + [np.nan] * (3 - len(v))\n",
    "            return padded[:3]\n",
    "        return [np.nan, np.nan, np.nan]\n",
    "    tmp = series.apply(pad_xyz)\n",
    "    return pd.DataFrame(tmp.tolist(), index=series.index, columns=['x', 'y','z'])\n",
    "# start coords (all event types)\n",
    "ev[['x', 'y', 'z']] = _xyz_from_list(ev.get('location', pd.Series(index=ev.index)))\n",
    "# end coords initiated as NaN\n",
    "ev['end_x'] = np.nan\n",
    "ev['end_y'] = np.nan\n",
    "ev['end_z'] = np.nan\n",
    "# fill end coords by event type\n",
    "def fill_end(ev, type_name, end_colname):\n",
    "    m = ev['type'].eq(type_name) & ev[end_colname].notna()\n",
    "    if m.any():\n",
    "        end_xyz = _xyz_from_list(ev.loc[m, end_colname])\n",
    "        ev.loc[m, ['end_x', 'end_y', 'end_z']] = end_xyz.values\n",
    "\n",
    "#passes, carries, shots  (add others later if needed)\n",
    "fill_end(ev,'Pass','pass_end_location')\n",
    "fill_end(ev,'Carry','carry_end_location')\n",
    "fill_end(ev,'Shot','shot_end_location')\n",
    "\n",
    "# Check\n",
    "ev[['type', 'x', 'y', 'end_x', 'end_y']].head(12)\n",
    "#raw_events[['team', 'player', 'type', 'x', 'y', 'end_x', 'end_y']].head(15)"
   ]
  },
  {
   "cell_type": "code",
   "execution_count": null,
   "id": "c8619821",
   "metadata": {},
   "outputs": [],
   "source": [
    "# Target Pitch dimensions (in meters)\n",
    "PITCH_L, PITCH_W = 105.0, 68.0\n",
    "#Statsbomb native pitch dimensions (in meters)\n",
    "SB_L, SB_W = 120.0, 80.0\n",
    "\n",
    "events = ev.copy()\n",
    "# Keep only relevant columns\n",
    "for c in ['team', 'player', 'type' ]"
   ]
  }
 ],
 "metadata": {
  "kernelspec": {
   "display_name": "venv",
   "language": "python",
   "name": "python3"
  },
  "language_info": {
   "codemirror_mode": {
    "name": "ipython",
    "version": 3
   },
   "file_extension": ".py",
   "mimetype": "text/x-python",
   "name": "python",
   "nbconvert_exporter": "python",
   "pygments_lexer": "ipython3",
   "version": "3.13.2"
  }
 },
 "nbformat": 4,
 "nbformat_minor": 5
}
